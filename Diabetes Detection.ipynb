{
 "cells": [
  {
   "cell_type": "code",
   "execution_count": 1,
   "metadata": {},
   "outputs": [],
   "source": [
    "import pandas as pd\n",
    "import numpy as np\n",
    "from sklearn.metrics import accuracy_score, recall_score, f1_score, precision_score"
   ]
  },
  {
   "cell_type": "code",
   "execution_count": 2,
   "metadata": {
    "id": "t7gSdDiIzErK"
   },
   "outputs": [],
   "source": [
    "# Load your training data set and test data\n",
    "dt_train = pd.read_csv('Diabetes_training.csv')\n",
    "dt_test = pd.read_csv('Diabetes_Xtest.csv')"
   ]
  },
  {
   "cell_type": "code",
   "execution_count": 3,
   "metadata": {
    "id": "et0ATMwzrU-0"
   },
   "outputs": [],
   "source": [
    "# Split training data into X and y\n",
    "Xt=dt_train.drop('diabetes',axis=1)\n",
    "yt=(dt_train['diabetes']=='pos')+0"
   ]
  },
  {
   "cell_type": "code",
   "execution_count": 4,
   "metadata": {
    "id": "wShbdeiWomoY"
   },
   "outputs": [],
   "source": [
    "from sklearn.preprocessing import StandardScaler\n",
    "scaler = StandardScaler()\n",
    "\n",
    "for i in Xt.columns:\n",
    "    Xt[i]=scaler.fit_transform(Xt[[i]]).ravel()\n",
    "    dt_test[i]=scaler.transform(dt_test[[i]]).ravel()"
   ]
  },
  {
   "cell_type": "code",
   "execution_count": 5,
   "metadata": {
    "id": "3DzsHi6ir9IK"
   },
   "outputs": [],
   "source": [
    "from sklearn.model_selection import train_test_split\n",
    "X_train, X_val, y_train, y_val = train_test_split(Xt, yt, test_size = 0.3, random_state=20) "
   ]
  },
  {
   "cell_type": "markdown",
   "metadata": {
    "id": "LXXOovbrsa2k"
   },
   "source": [
    "### Decision Tree"
   ]
  },
  {
   "cell_type": "code",
   "execution_count": 6,
   "metadata": {
    "colab": {
     "base_uri": "https://localhost:8080/"
    },
    "id": "nqYXkEHDscGu",
    "outputId": "f64d26d1-4c2f-45f1-b960-c2e95a0945da"
   },
   "outputs": [
    {
     "data": {
      "text/plain": [
       "DecisionTreeClassifier(random_state=30)"
      ]
     },
     "execution_count": 6,
     "metadata": {},
     "output_type": "execute_result"
    }
   ],
   "source": [
    "from sklearn.tree import DecisionTreeClassifier\n",
    "clf=DecisionTreeClassifier(random_state=30)\n",
    "clf.fit(X_train,y_train)"
   ]
  },
  {
   "cell_type": "code",
   "execution_count": 7,
   "metadata": {
    "id": "g1z_pShQtcUX"
   },
   "outputs": [],
   "source": [
    "pred_train=clf.predict(X_train)"
   ]
  },
  {
   "cell_type": "markdown",
   "metadata": {
    "id": "kPp2cIUMuS4p"
   },
   "source": [
    "Print accuracy, precision and recall for the predictions made on the training data. "
   ]
  },
  {
   "cell_type": "code",
   "execution_count": 8,
   "metadata": {
    "colab": {
     "base_uri": "https://localhost:8080/"
    },
    "id": "CpqQd8W0ayP_",
    "outputId": "db2ede21-065a-4633-99d8-4e5005b4a71a"
   },
   "outputs": [
    {
     "name": "stdout",
     "output_type": "stream",
     "text": [
      "Precision is 1.0\n",
      "Recall is 1.0\n",
      "Accuracy is 1.0\n"
     ]
    }
   ],
   "source": [
    "# Print accuracy, precision and recall for the predictions made on the training data.\n",
    "print('Precision is',precision_score(y_train,pred_train))\n",
    "print('Recall is',recall_score(y_train,pred_train))\n",
    "print('Accuracy is',accuracy_score(y_train,pred_train))"
   ]
  },
  {
   "cell_type": "code",
   "execution_count": 9,
   "metadata": {
    "id": "QHx99fcqvA9R"
   },
   "outputs": [],
   "source": [
    "pred_val=clf.predict(X_val)\n",
    "pred_val_prob=clf.predict_proba(X_val)"
   ]
  },
  {
   "cell_type": "code",
   "execution_count": 10,
   "metadata": {
    "colab": {
     "base_uri": "https://localhost:8080/"
    },
    "id": "2e_HZneYva4d",
    "outputId": "d74544e3-9f52-4922-d8ee-e37e43189e40"
   },
   "outputs": [
    {
     "name": "stdout",
     "output_type": "stream",
     "text": [
      "Precision is 0.532258064516129\n",
      "Recall is 0.6346153846153846\n",
      "Accuracy is 0.7225433526011561\n"
     ]
    }
   ],
   "source": [
    "### WRITE CODE HERE ###\n",
    "print('Precision is',precision_score(y_val,pred_val))\n",
    "print('Recall is',recall_score(y_val,pred_val))\n",
    "print('Accuracy is',accuracy_score(y_val,pred_val))"
   ]
  },
  {
   "cell_type": "markdown",
   "metadata": {
    "id": "xwIDnQCmvvqj"
   },
   "source": [
    "Plot ROC curve and obtain AUC for predictions on the validation data."
   ]
  },
  {
   "cell_type": "code",
   "execution_count": 11,
   "metadata": {
    "colab": {
     "base_uri": "https://localhost:8080/",
     "height": 297
    },
    "id": "L9ZqUWdXv7D5",
    "outputId": "e6189fca-18fe-4155-e07c-3ee113170e1a"
   },
   "outputs": [
    {
     "name": "stdout",
     "output_type": "stream",
     "text": [
      "AUC: 0.697\n"
     ]
    },
    {
     "data": {
      "image/png": "[encoded data removed]",
      "text/plain": [
       "<Figure size 640x480 with 1 Axes>"
      ]
     },
     "metadata": {},
     "output_type": "display_data"
    }
   ],
   "source": [
    "from sklearn.metrics import roc_curve\n",
    "import sklearn.metrics as metrics\n",
    "fpr, tpr, _ = roc_curve(y_val, pred_val_prob[:,1])\n",
    "auc = metrics.roc_auc_score(y_val, pred_val_prob[:,1])\n",
    "print('AUC: %.3f' % auc)\n",
    "\n",
    "import matplotlib.pyplot as plt\n",
    "\n",
    "plt.plot(fpr, tpr, label='Decision tree')\n",
    "plt.xlabel('False Positive Rate')\n",
    "plt.ylabel('True Positive Rate')\n",
    "plt.legend()\n",
    "plt.show()"
   ]
  },
  {
   "cell_type": "markdown",
   "metadata": {
    "id": "EHY7zX-LwNA-"
   },
   "source": [
    "The model has high variance and low bias (overfitting) as seen from the large difference between the training and validation metrics and near perfect training metrics."
   ]
  },
  {
   "cell_type": "markdown",
   "metadata": {
    "id": "Gn_lR52Hwb0V"
   },
   "source": [
    "### Random Forest"
   ]
  },
  {
   "cell_type": "code",
   "execution_count": 12,
   "metadata": {
    "colab": {
     "base_uri": "https://localhost:8080/"
    },
    "id": "V11dWNRLwjfr",
    "outputId": "43c5fd1d-f754-455f-9696-a9ebd4c6aa26"
   },
   "outputs": [
    {
     "data": {
      "text/plain": [
       "RandomForestClassifier(random_state=30)"
      ]
     },
     "execution_count": 12,
     "metadata": {},
     "output_type": "execute_result"
    }
   ],
   "source": [
    "from sklearn.ensemble import RandomForestClassifier\n",
    "rf=RandomForestClassifier(random_state=30)\n",
    "rf.fit(X_train,y_train)"
   ]
  },
  {
   "cell_type": "code",
   "execution_count": 13,
   "metadata": {
    "id": "xYomCX4nw1yq"
   },
   "outputs": [],
   "source": [
    "rf_pred_train=rf.predict(X_train)"
   ]
  },
  {
   "cell_type": "code",
   "execution_count": 14,
   "metadata": {
    "colab": {
     "base_uri": "https://localhost:8080/"
    },
    "id": "l_OUtD0Tbu0K",
    "outputId": "32118e2d-df1e-4732-e0c5-f35d50ea6bf2"
   },
   "outputs": [
    {
     "name": "stdout",
     "output_type": "stream",
     "text": [
      "Precision is 1.0\n",
      "Recall is 1.0\n",
      "Accuracy is 1.0\n"
     ]
    }
   ],
   "source": [
    "print('Precision is',precision_score(y_train,rf_pred_train))\n",
    "print('Recall is',recall_score(y_train,rf_pred_train))\n",
    "print('Accuracy is',accuracy_score(y_train,rf_pred_train))"
   ]
  },
  {
   "cell_type": "code",
   "execution_count": 15,
   "metadata": {
    "id": "k9WwHw3S1qvG"
   },
   "outputs": [],
   "source": [
    "rf_val=rf.predict(X_val)\n",
    "rf_val_prob=rf.predict_proba(X_val)"
   ]
  },
  {
   "cell_type": "code",
   "execution_count": 16,
   "metadata": {
    "colab": {
     "base_uri": "https://localhost:8080/"
    },
    "id": "1eDc8z5H1y8i",
    "outputId": "6d057177-3db1-4047-9bcc-ebff6aebebfb"
   },
   "outputs": [
    {
     "name": "stdout",
     "output_type": "stream",
     "text": [
      "Precision is 0.6\n",
      "Recall is 0.6923076923076923\n",
      "Accuracy is 0.7687861271676301\n"
     ]
    }
   ],
   "source": [
    "print('Precision is',precision_score(y_val,rf_val))\n",
    "print('Recall is',recall_score(y_val,rf_val))\n",
    "print('Accuracy is',accuracy_score(y_val,rf_val))"
   ]
  },
  {
   "cell_type": "code",
   "execution_count": 17,
   "metadata": {
    "colab": {
     "base_uri": "https://localhost:8080/",
     "height": 297
    },
    "id": "YBtxdmDa33fJ",
    "outputId": "a263632c-d13c-44d9-cb27-090801c9b6e5"
   },
   "outputs": [
    {
     "name": "stdout",
     "output_type": "stream",
     "text": [
      "AUC: 0.844\n"
     ]
    },
    {
     "data": {
      "image/png": "[encoded data removed]",
      "text/plain": [
       "<Figure size 640x480 with 1 Axes>"
      ]
     },
     "metadata": {},
     "output_type": "display_data"
    }
   ],
   "source": [
    "from sklearn.metrics import roc_curve\n",
    "import sklearn.metrics as metrics\n",
    "fpr, tpr, thresholds = roc_curve(y_val, rf_val_prob[:,1])\n",
    "auc = metrics.roc_auc_score(y_val, rf_val_prob[:,1])\n",
    "print('AUC: %.3f' % auc)\n",
    "\n",
    "import matplotlib.pyplot as plt\n",
    "\n",
    "plt.plot(fpr, tpr, label='Random forest')\n",
    "plt.xlabel('False Positive Rate')\n",
    "plt.ylabel('True Positive Rate')\n",
    "plt.legend()\n",
    "plt.show()"
   ]
  },
  {
   "cell_type": "markdown",
   "metadata": {
    "id": "fcld7NGV4GU_"
   },
   "source": [
    "The random forest still has relatively high variance and low bias, but seems to have lesser variance due to bagging as compared to the decision tree model. Random forest is objectively better than the decision tree as seen from the validation score. Since there is large variance and overfitting, the random forest performs better as it tends to reduce the variance through bagging."
   ]
  },
  {
   "cell_type": "markdown",
   "metadata": {
    "id": "IY8Pzi-B4WAz"
   },
   "source": [
    "## Hyperparameter Tuning"
   ]
  },
  {
   "cell_type": "code",
   "execution_count": 18,
   "metadata": {
    "id": "vH6HzdEB5JLP"
   },
   "outputs": [],
   "source": [
    "from sklearn.model_selection import GridSearchCV"
   ]
  },
  {
   "cell_type": "code",
   "execution_count": 19,
   "metadata": {
    "id": "9qQPsqjm5Mfb"
   },
   "outputs": [],
   "source": [
    "param_grid = {\n",
    "    'max_depth': [None,10,25],\n",
    "    'max_features': ['auto','sqrt'],\n",
    "    'min_samples_leaf': [1,2,4],\n",
    "    'min_samples_split': [2,4,6],\n",
    "    'n_estimators': [25,50,100]\n",
    "}"
   ]
  },
  {
   "cell_type": "code",
   "execution_count": 20,
   "metadata": {
    "id": "8bIILs6ZdKzk"
   },
   "outputs": [],
   "source": [
    "rf = RandomForestClassifier(random_state=30)"
   ]
  },
  {
   "cell_type": "code",
   "execution_count": 21,
   "metadata": {
    "id": "pwKYkjAM510B"
   },
   "outputs": [],
   "source": [
    "grid_search = GridSearchCV(estimator = rf, scoring='recall', param_grid = param_grid, \n",
    "                          cv = 3, n_jobs = -1, verbose = 2)"
   ]
  },
  {
   "cell_type": "code",
   "execution_count": 22,
   "metadata": {
    "colab": {
     "base_uri": "https://localhost:8080/"
    },
    "id": "adfXnU4qBuKj",
    "outputId": "63eb2fd6-d0ea-4aa3-afac-b8b3a04c2c8f"
   },
   "outputs": [
    {
     "name": "stdout",
     "output_type": "stream",
     "text": [
      "Fitting 3 folds for each of 162 candidates, totalling 486 fits\n"
     ]
    },
    {
     "data": {
      "text/plain": [
       "GridSearchCV(cv=3, estimator=RandomForestClassifier(random_state=30), n_jobs=-1,\n",
       "             param_grid={'max_depth': [None, 10, 25],\n",
       "                         'max_features': ['auto', 'sqrt'],\n",
       "                         'min_samples_leaf': [1, 2, 4],\n",
       "                         'min_samples_split': [2, 4, 6],\n",
       "                         'n_estimators': [25, 50, 100]},\n",
       "             scoring='recall', verbose=2)"
      ]
     },
     "execution_count": 22,
     "metadata": {},
     "output_type": "execute_result"
    }
   ],
   "source": [
    "grid_search.fit(X_train,y_train)"
   ]
  },
  {
   "cell_type": "code",
   "execution_count": 23,
   "metadata": {
    "colab": {
     "base_uri": "https://localhost:8080/"
    },
    "id": "1hXn1Bx3CMQG",
    "outputId": "80e33fdb-f850-4455-bf5f-d99293b97cab"
   },
   "outputs": [
    {
     "data": {
      "text/plain": [
       "{'max_depth': None,\n",
       " 'max_features': 'auto',\n",
       " 'min_samples_leaf': 2,\n",
       " 'min_samples_split': 6,\n",
       " 'n_estimators': 50}"
      ]
     },
     "execution_count": 23,
     "metadata": {},
     "output_type": "execute_result"
    }
   ],
   "source": [
    "grid_search.best_params_"
   ]
  },
  {
   "cell_type": "code",
   "execution_count": 24,
   "metadata": {
    "colab": {
     "base_uri": "https://localhost:8080/"
    },
    "id": "VFZfOfsZCXTD",
    "outputId": "f588522f-11b8-46f3-89a7-de1d58da95d5"
   },
   "outputs": [
    {
     "data": {
      "text/plain": [
       "0.657687074829932"
      ]
     },
     "execution_count": 24,
     "metadata": {},
     "output_type": "execute_result"
    }
   ],
   "source": [
    "grid_search.best_score_"
   ]
  },
  {
   "cell_type": "code",
   "execution_count": 25,
   "metadata": {
    "colab": {
     "base_uri": "https://localhost:8080/"
    },
    "id": "xf-7OQJCCq56",
    "outputId": "9d0be091-89bd-4636-8a8a-c5df0a7fb91b"
   },
   "outputs": [
    {
     "name": "stdout",
     "output_type": "stream",
     "text": [
      "Training:\n",
      "Precision is 0.9527027027027027\n",
      "Recall is 0.9463087248322147\n",
      "Accuracy is 0.9627791563275434\n",
      "\n",
      "\n",
      "Validation:\n",
      "Precision is 0.576271186440678\n",
      "Recall is 0.6538461538461539\n",
      "Accuracy is 0.7514450867052023\n"
     ]
    }
   ],
   "source": [
    "final=grid_search.best_estimator_\n",
    "pred_train=final.predict(X_train)\n",
    "print('Training:')\n",
    "print('Precision is',precision_score(y_train,pred_train))\n",
    "print('Recall is',recall_score(y_train,pred_train))\n",
    "print('Accuracy is',accuracy_score(y_train,pred_train))\n",
    "\n",
    "print('\\n')\n",
    "print('Validation:')\n",
    "pred_val=final.predict(X_val)\n",
    "pred_val_prob=final.predict_proba(X_val)\n",
    "print('Precision is',precision_score(y_val,pred_val))\n",
    "print('Recall is',recall_score(y_val,pred_val))\n",
    "print('Accuracy is',accuracy_score(y_val,pred_val))"
   ]
  },
  {
   "cell_type": "code",
   "execution_count": 26,
   "metadata": {
    "colab": {
     "base_uri": "https://localhost:8080/",
     "height": 297
    },
    "id": "M5m5sQo-GEbr",
    "outputId": "cd58eb98-8474-44af-ed24-7d5cdbf823ae"
   },
   "outputs": [
    {
     "name": "stdout",
     "output_type": "stream",
     "text": [
      "AUC: 0.838\n"
     ]
    },
    {
     "data": {
      "image/png": "[encoded data removed]",
      "text/plain": [
       "<Figure size 640x480 with 1 Axes>"
      ]
     },
     "metadata": {},
     "output_type": "display_data"
    }
   ],
   "source": [
    "fpr, tpr, thresholds = roc_curve(y_val, pred_val_prob[:,1])\n",
    "auc = metrics.roc_auc_score(y_val, pred_val_prob[:,1])\n",
    "print('AUC: %.3f' % auc)\n",
    "\n",
    "import matplotlib.pyplot as plt\n",
    "\n",
    "plt.plot(fpr, tpr, label='Decision tree')\n",
    "plt.xlabel('False Positive Rate')\n",
    "plt.ylabel('True Positive Rate')\n",
    "plt.legend()\n",
    "plt.show()"
   ]
  },
  {
   "cell_type": "code",
   "execution_count": 27,
   "metadata": {
    "id": "pyL57V9TGoTx"
   },
   "outputs": [],
   "source": [
    "# Construct your final random forest using the best hyperparameters obtained above\n",
    "\n",
    "# return the prediction as \"y_pred2\"\n",
    "y_pred2=final.predict(dt_test)"
   ]
  }
 ],
 "metadata": {
  "colab": {
   "provenance": []
  },
  "kernelspec": {
   "display_name": "Python 3 (ipykernel)",
   "language": "python",
   "name": "python3"
  },
  "language_info": {
   "codemirror_mode": {
    "name": "ipython",
    "version": 3
   },
   "file_extension": ".py",
   "mimetype": "text/x-python",
   "name": "python",
   "nbconvert_exporter": "python",
   "pygments_lexer": "ipython3",
   "version": "3.9.13"
  }
 },
 "nbformat": 4,
 "nbformat_minor": 4
}
